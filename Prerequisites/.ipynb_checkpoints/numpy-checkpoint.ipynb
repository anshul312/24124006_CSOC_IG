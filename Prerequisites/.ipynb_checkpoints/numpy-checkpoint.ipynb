{
 "cells": [
  {
   "cell_type": "code",
   "execution_count": 15,
   "id": "4b8af399-bd03-4846-b628-2f26ee438522",
   "metadata": {},
   "outputs": [],
   "source": [
    "import pandas as pd\n",
    "from linear_regression_numpy import *"
   ]
  },
  {
   "cell_type": "code",
   "execution_count": 16,
   "id": "7ca90574-90d4-44fb-9113-e6b31e2118a6",
   "metadata": {},
   "outputs": [
    {
     "name": "stdout",
     "output_type": "stream",
     "text": [
      "<class 'pandas.core.frame.DataFrame'>\n",
      "RangeIndex: 20640 entries, 0 to 20639\n",
      "Data columns (total 10 columns):\n",
      " #   Column              Non-Null Count  Dtype  \n",
      "---  ------              --------------  -----  \n",
      " 0   longitude           20640 non-null  float64\n",
      " 1   latitude            20640 non-null  float64\n",
      " 2   housing_median_age  20640 non-null  float64\n",
      " 3   total_rooms         20640 non-null  float64\n",
      " 4   total_bedrooms      20433 non-null  float64\n",
      " 5   population          20640 non-null  float64\n",
      " 6   households          20640 non-null  float64\n",
      " 7   median_income       20640 non-null  float64\n",
      " 8   median_house_value  20640 non-null  float64\n",
      " 9   ocean_proximity     20640 non-null  object \n",
      "dtypes: float64(9), object(1)\n",
      "memory usage: 1.6+ MB\n"
     ]
    }
   ],
   "source": [
    "housing=pd.read_csv('housing.csv')\n",
    "housing.info()"
   ]
  },
  {
   "cell_type": "code",
   "execution_count": 17,
   "id": "64fc2876-6f4f-4a27-93b4-234833c862d2",
   "metadata": {
    "scrolled": true
   },
   "outputs": [],
   "source": [
    "median_of_total_bedrooms=housing['total_bedrooms'].median()\n",
    "housing['total_bedrooms'] = housing['total_bedrooms'].fillna(median_of_total_bedrooms)\n"
   ]
  },
  {
   "cell_type": "code",
   "execution_count": 18,
   "id": "78ef10c1-14cc-4284-895d-1cd8100f1112",
   "metadata": {},
   "outputs": [
    {
     "data": {
      "text/plain": [
       "median_house_value    1.000000\n",
       "median_income         0.688075\n",
       "total_rooms           0.134153\n",
       "housing_median_age    0.105623\n",
       "households            0.065843\n",
       "total_bedrooms        0.049457\n",
       "population           -0.024650\n",
       "longitude            -0.045967\n",
       "latitude             -0.144160\n",
       "Name: median_house_value, dtype: float64"
      ]
     },
     "execution_count": 18,
     "metadata": {},
     "output_type": "execute_result"
    }
   ],
   "source": [
    "corr_matrix = housing.select_dtypes(include=['number']).corr()\n",
    "corr_matrix[\"median_house_value\"].sort_values(ascending=False)"
   ]
  },
  {
   "cell_type": "code",
   "execution_count": 19,
   "id": "61b80c28-27ba-47c3-8b9a-72ed987bd4b5",
   "metadata": {},
   "outputs": [
    {
     "data": {
      "text/plain": [
       "median_house_value    1.000000\n",
       "median_income         0.688075\n",
       "rooms_per_person      0.209482\n",
       "rooms_per_house       0.151948\n",
       "total_rooms           0.134153\n",
       "housing_median_age    0.105623\n",
       "households            0.065843\n",
       "total_bedrooms        0.049457\n",
       "population           -0.024650\n",
       "bedrooms_per_house   -0.045637\n",
       "longitude            -0.045967\n",
       "latitude             -0.144160\n",
       "bedrooms_per_room    -0.233303\n",
       "Name: median_house_value, dtype: float64"
      ]
     },
     "execution_count": 19,
     "metadata": {},
     "output_type": "execute_result"
    }
   ],
   "source": [
    "housing['rooms_per_house']=housing['total_rooms']/housing['households']\n",
    "housing['bedrooms_per_house']=housing['total_bedrooms']/housing['households']\n",
    "housing[\"bedrooms_per_room\"] = housing[\"total_bedrooms\"]/housing[\"total_rooms\"]\n",
    "housing[\"rooms_per_person\"] = housing[\"total_rooms\"]/housing[\"population\"]\n",
    "\n",
    "corr_matrix = housing.select_dtypes(include=['number']).corr()\n",
    "corr_matrix[\"median_house_value\"].sort_values(ascending=False)"
   ]
  },
  {
   "cell_type": "code",
   "execution_count": 20,
   "id": "ea87615d-4014-4f30-adc7-e21a5547ec9d",
   "metadata": {},
   "outputs": [
    {
     "name": "stdout",
     "output_type": "stream",
     "text": [
      "<class 'pandas.core.frame.DataFrame'>\n",
      "RangeIndex: 20640 entries, 0 to 20639\n",
      "Data columns (total 18 columns):\n",
      " #   Column                      Non-Null Count  Dtype  \n",
      "---  ------                      --------------  -----  \n",
      " 0   longitude                   20640 non-null  float64\n",
      " 1   latitude                    20640 non-null  float64\n",
      " 2   housing_median_age          20640 non-null  float64\n",
      " 3   total_rooms                 20640 non-null  float64\n",
      " 4   total_bedrooms              20640 non-null  float64\n",
      " 5   population                  20640 non-null  float64\n",
      " 6   households                  20640 non-null  float64\n",
      " 7   median_income               20640 non-null  float64\n",
      " 8   median_house_value          20640 non-null  float64\n",
      " 9   rooms_per_house             20640 non-null  float64\n",
      " 10  bedrooms_per_house          20640 non-null  float64\n",
      " 11  bedrooms_per_room           20640 non-null  float64\n",
      " 12  rooms_per_person            20640 non-null  float64\n",
      " 13  ocean_proximity_<1H OCEAN   20640 non-null  bool   \n",
      " 14  ocean_proximity_INLAND      20640 non-null  bool   \n",
      " 15  ocean_proximity_ISLAND      20640 non-null  bool   \n",
      " 16  ocean_proximity_NEAR BAY    20640 non-null  bool   \n",
      " 17  ocean_proximity_NEAR OCEAN  20640 non-null  bool   \n",
      "dtypes: bool(5), float64(13)\n",
      "memory usage: 2.1 MB\n"
     ]
    }
   ],
   "source": [
    "housing = pd.get_dummies(housing, columns=['ocean_proximity'])\n",
    "\n",
    "housing.info()"
   ]
  },
  {
   "cell_type": "code",
   "execution_count": 21,
   "id": "edfab1fc-3aba-4448-b52c-9301b4aba785",
   "metadata": {
    "scrolled": true
   },
   "outputs": [
    {
     "name": "stdout",
     "output_type": "stream",
     "text": [
      "<class 'pandas.core.frame.DataFrame'>\n",
      "Index: 16512 entries, 12432 to 3648\n",
      "Data columns (total 18 columns):\n",
      " #   Column                      Non-Null Count  Dtype  \n",
      "---  ------                      --------------  -----  \n",
      " 0   longitude                   16512 non-null  float64\n",
      " 1   latitude                    16512 non-null  float64\n",
      " 2   housing_median_age          16512 non-null  float64\n",
      " 3   total_rooms                 16512 non-null  float64\n",
      " 4   total_bedrooms              16512 non-null  float64\n",
      " 5   population                  16512 non-null  float64\n",
      " 6   households                  16512 non-null  float64\n",
      " 7   median_income               16512 non-null  float64\n",
      " 8   median_house_value          16512 non-null  float64\n",
      " 9   rooms_per_house             16512 non-null  float64\n",
      " 10  bedrooms_per_house          16512 non-null  float64\n",
      " 11  bedrooms_per_room           16512 non-null  float64\n",
      " 12  rooms_per_person            16512 non-null  float64\n",
      " 13  ocean_proximity_<1H OCEAN   16512 non-null  bool   \n",
      " 14  ocean_proximity_INLAND      16512 non-null  bool   \n",
      " 15  ocean_proximity_ISLAND      16512 non-null  bool   \n",
      " 16  ocean_proximity_NEAR BAY    16512 non-null  bool   \n",
      " 17  ocean_proximity_NEAR OCEAN  16512 non-null  bool   \n",
      "dtypes: bool(5), float64(13)\n",
      "memory usage: 1.8 MB\n",
      "None\n"
     ]
    }
   ],
   "source": [
    "train_set, test_set = train_test_split(housing, test_size=0.2, random_state=42)\n",
    "print(train_set.info())"
   ]
  },
  {
   "cell_type": "code",
   "execution_count": 22,
   "id": "da167528-d3b5-4c1a-ba7d-ecaa6d3490d9",
   "metadata": {},
   "outputs": [],
   "source": [
    "train_features = train_set.drop('median_house_value', axis=1)\n",
    "train_labels = train_set['median_house_value'].copy()"
   ]
  },
  {
   "cell_type": "code",
   "execution_count": 23,
   "id": "3c6ee4ad-5be2-48e9-bb8f-6b87c6e892ed",
   "metadata": {},
   "outputs": [],
   "source": [
    "for col in train_features.columns:\n",
    "    mean = train_features[col].mean()\n",
    "    std = train_features[col].std()\n",
    "    train_features[col] = (train_features[col] - mean) / std"
   ]
  },
  {
   "cell_type": "code",
   "execution_count": 24,
   "id": "63698592-a1ec-4712-b19a-bffca33d0253",
   "metadata": {},
   "outputs": [
    {
     "data": {
      "text/html": [
       "<div>\n",
       "<style scoped>\n",
       "    .dataframe tbody tr th:only-of-type {\n",
       "        vertical-align: middle;\n",
       "    }\n",
       "\n",
       "    .dataframe tbody tr th {\n",
       "        vertical-align: top;\n",
       "    }\n",
       "\n",
       "    .dataframe thead th {\n",
       "        text-align: right;\n",
       "    }\n",
       "</style>\n",
       "<table border=\"1\" class=\"dataframe\">\n",
       "  <thead>\n",
       "    <tr style=\"text-align: right;\">\n",
       "      <th></th>\n",
       "      <th>longitude</th>\n",
       "      <th>latitude</th>\n",
       "      <th>housing_median_age</th>\n",
       "      <th>total_rooms</th>\n",
       "      <th>total_bedrooms</th>\n",
       "      <th>population</th>\n",
       "      <th>households</th>\n",
       "      <th>median_income</th>\n",
       "      <th>rooms_per_house</th>\n",
       "      <th>bedrooms_per_house</th>\n",
       "      <th>bedrooms_per_room</th>\n",
       "      <th>rooms_per_person</th>\n",
       "      <th>ocean_proximity_&lt;1H OCEAN</th>\n",
       "      <th>ocean_proximity_INLAND</th>\n",
       "      <th>ocean_proximity_ISLAND</th>\n",
       "      <th>ocean_proximity_NEAR BAY</th>\n",
       "      <th>ocean_proximity_NEAR OCEAN</th>\n",
       "    </tr>\n",
       "  </thead>\n",
       "  <tbody>\n",
       "    <tr>\n",
       "      <th>12432</th>\n",
       "      <td>1.717687</td>\n",
       "      <td>-0.982184</td>\n",
       "      <td>-0.923947</td>\n",
       "      <td>-0.099420</td>\n",
       "      <td>0.675396</td>\n",
       "      <td>1.369652</td>\n",
       "      <td>0.481046</td>\n",
       "      <td>-1.166674</td>\n",
       "      <td>-0.767369</td>\n",
       "      <td>0.191170</td>\n",
       "      <td>1.915222</td>\n",
       "      <td>-1.019280</td>\n",
       "      <td>-0.894876</td>\n",
       "      <td>1.471774</td>\n",
       "      <td>-0.015566</td>\n",
       "      <td>-0.353904</td>\n",
       "      <td>-0.382959</td>\n",
       "    </tr>\n",
       "    <tr>\n",
       "      <th>10536</th>\n",
       "      <td>0.924225</td>\n",
       "      <td>-1.000979</td>\n",
       "      <td>-1.877763</td>\n",
       "      <td>-0.440193</td>\n",
       "      <td>-0.675851</td>\n",
       "      <td>-0.719670</td>\n",
       "      <td>-0.704407</td>\n",
       "      <td>2.468388</td>\n",
       "      <td>0.759347</td>\n",
       "      <td>0.004936</td>\n",
       "      <td>-0.958780</td>\n",
       "      <td>0.663208</td>\n",
       "      <td>1.117406</td>\n",
       "      <td>-0.679411</td>\n",
       "      <td>-0.015566</td>\n",
       "      <td>-0.353904</td>\n",
       "      <td>-0.382959</td>\n",
       "    </tr>\n",
       "    <tr>\n",
       "      <th>9659</th>\n",
       "      <td>-0.797438</td>\n",
       "      <td>2.894264</td>\n",
       "      <td>1.063170</td>\n",
       "      <td>0.129141</td>\n",
       "      <td>0.092880</td>\n",
       "      <td>-0.218198</td>\n",
       "      <td>-0.158681</td>\n",
       "      <td>-0.909927</td>\n",
       "      <td>0.497610</td>\n",
       "      <td>0.405092</td>\n",
       "      <td>-0.250596</td>\n",
       "      <td>0.439089</td>\n",
       "      <td>-0.894876</td>\n",
       "      <td>1.471774</td>\n",
       "      <td>-0.015566</td>\n",
       "      <td>-0.353904</td>\n",
       "      <td>-0.382959</td>\n",
       "    </tr>\n",
       "    <tr>\n",
       "      <th>6718</th>\n",
       "      <td>0.699660</td>\n",
       "      <td>-0.700261</td>\n",
       "      <td>0.586262</td>\n",
       "      <td>0.628113</td>\n",
       "      <td>0.262382</td>\n",
       "      <td>-0.080625</td>\n",
       "      <td>0.340045</td>\n",
       "      <td>2.017219</td>\n",
       "      <td>0.380027</td>\n",
       "      <td>-0.136793</td>\n",
       "      <td>-0.798792</td>\n",
       "      <td>0.902325</td>\n",
       "      <td>1.117406</td>\n",
       "      <td>-0.679411</td>\n",
       "      <td>-0.015566</td>\n",
       "      <td>-0.353904</td>\n",
       "      <td>-0.382959</td>\n",
       "    </tr>\n",
       "    <tr>\n",
       "      <th>6610</th>\n",
       "      <td>0.729602</td>\n",
       "      <td>-0.676767</td>\n",
       "      <td>1.460594</td>\n",
       "      <td>-0.215770</td>\n",
       "      <td>-0.441890</td>\n",
       "      <td>-0.466715</td>\n",
       "      <td>-0.364960</td>\n",
       "      <td>1.057696</td>\n",
       "      <td>0.241847</td>\n",
       "      <td>-0.232834</td>\n",
       "      <td>-0.787560</td>\n",
       "      <td>0.381639</td>\n",
       "      <td>-0.894876</td>\n",
       "      <td>1.471774</td>\n",
       "      <td>-0.015566</td>\n",
       "      <td>-0.353904</td>\n",
       "      <td>-0.382959</td>\n",
       "    </tr>\n",
       "  </tbody>\n",
       "</table>\n",
       "</div>"
      ],
      "text/plain": [
       "       longitude  latitude  housing_median_age  total_rooms  total_bedrooms  \\\n",
       "12432   1.717687 -0.982184           -0.923947    -0.099420        0.675396   \n",
       "10536   0.924225 -1.000979           -1.877763    -0.440193       -0.675851   \n",
       "9659   -0.797438  2.894264            1.063170     0.129141        0.092880   \n",
       "6718    0.699660 -0.700261            0.586262     0.628113        0.262382   \n",
       "6610    0.729602 -0.676767            1.460594    -0.215770       -0.441890   \n",
       "\n",
       "       population  households  median_income  rooms_per_house  \\\n",
       "12432    1.369652    0.481046      -1.166674        -0.767369   \n",
       "10536   -0.719670   -0.704407       2.468388         0.759347   \n",
       "9659    -0.218198   -0.158681      -0.909927         0.497610   \n",
       "6718    -0.080625    0.340045       2.017219         0.380027   \n",
       "6610    -0.466715   -0.364960       1.057696         0.241847   \n",
       "\n",
       "       bedrooms_per_house  bedrooms_per_room  rooms_per_person  \\\n",
       "12432            0.191170           1.915222         -1.019280   \n",
       "10536            0.004936          -0.958780          0.663208   \n",
       "9659             0.405092          -0.250596          0.439089   \n",
       "6718            -0.136793          -0.798792          0.902325   \n",
       "6610            -0.232834          -0.787560          0.381639   \n",
       "\n",
       "       ocean_proximity_<1H OCEAN  ocean_proximity_INLAND  \\\n",
       "12432                  -0.894876                1.471774   \n",
       "10536                   1.117406               -0.679411   \n",
       "9659                   -0.894876                1.471774   \n",
       "6718                    1.117406               -0.679411   \n",
       "6610                   -0.894876                1.471774   \n",
       "\n",
       "       ocean_proximity_ISLAND  ocean_proximity_NEAR BAY  \\\n",
       "12432               -0.015566                 -0.353904   \n",
       "10536               -0.015566                 -0.353904   \n",
       "9659                -0.015566                 -0.353904   \n",
       "6718                -0.015566                 -0.353904   \n",
       "6610                -0.015566                 -0.353904   \n",
       "\n",
       "       ocean_proximity_NEAR OCEAN  \n",
       "12432                   -0.382959  \n",
       "10536                   -0.382959  \n",
       "9659                    -0.382959  \n",
       "6718                    -0.382959  \n",
       "6610                    -0.382959  "
      ]
     },
     "execution_count": 24,
     "metadata": {},
     "output_type": "execute_result"
    }
   ],
   "source": [
    "train_features.head(5)"
   ]
  },
  {
   "cell_type": "code",
   "execution_count": 25,
   "id": "93667191-8765-4245-9f58-34772db853ca",
   "metadata": {},
   "outputs": [
    {
     "name": "stdout",
     "output_type": "stream",
     "text": [
      "Iteration    0: Cost 148432.97   \n",
      "Iteration  100: Cost 66684.35   \n",
      "Iteration  200: Cost 66539.75   \n",
      "Iteration  300: Cost 66520.35   \n",
      "Iteration  400: Cost 66517.71   \n",
      "Iteration  500: Cost 66517.36   \n",
      "Iteration  600: Cost 66517.31   \n",
      "Iteration  700: Cost 66517.30   \n",
      "Iteration  800: Cost 66517.30   \n",
      "Iteration  900: Cost 66517.30   \n",
      "Iteration  999: Cost 66517.30   \n",
      "gradient_descent ran in:3.793572425842285 sec\n"
     ]
    }
   ],
   "source": [
    "w_init = np.zeros(train_features.shape[1] )\n",
    "b_init = 0.0\n",
    "\n",
    "w, b, J_hist, w_hist = gradient_descent(X=train_features,y= train_labels,w_in= w_init, b_in=b_init, cost_function=cost, gradients=gradients, alpha=0.4, num_iters=1000,lambda_=1)\n"
   ]
  },
  {
   "cell_type": "code",
   "execution_count": 26,
   "id": "ea8ed000-8eec-4be8-b9c7-e05792c8e1a1",
   "metadata": {},
   "outputs": [
    {
     "name": "stdout",
     "output_type": "stream",
     "text": [
      "[ 29134.47795198 382200.96087298    593.74333193 407765.44280037\n",
      " 283788.58809824 155178.90772704 196865.42709322 179428.7651959\n",
      " 184583.14627356 143907.83918671]\n",
      "12432    100000.0\n",
      "10536    397700.0\n",
      "9659      44000.0\n",
      "6718     500001.0\n",
      "6610     300900.0\n",
      "9082     171900.0\n",
      "2624     119900.0\n",
      "17703    177500.0\n",
      "10139    159500.0\n",
      "8252     147500.0\n",
      "Name: median_house_value, dtype: float64\n"
     ]
    }
   ],
   "source": [
    "try_data=train_features.iloc[:10]\n",
    "try_labels=train_labels.iloc[:10]\n",
    "\n",
    "print(predict(try_data,w,b))\n",
    "print(try_labels)"
   ]
  },
  {
   "cell_type": "code",
   "execution_count": 27,
   "id": "9d29ce24-8fa7-45bf-a97e-94d3b2a2798b",
   "metadata": {},
   "outputs": [],
   "source": [
    "test_labels = test_set['median_house_value'].copy()\n",
    "test_features = test_set.drop('median_house_value', axis=1)\n",
    "\n",
    "\n",
    "for col in test_features.columns:\n",
    "    mean = test_features[col].mean()\n",
    "    std = test_features[col].std()\n",
    "    test_features[col] = (test_features[col] - mean) / std\n"
   ]
  },
  {
   "cell_type": "code",
   "execution_count": 46,
   "id": "58491f65-0c7b-4d15-a4cd-2e9942257fcc",
   "metadata": {},
   "outputs": [
    {
     "name": "stdout",
     "output_type": "stream",
     "text": [
      "66517.29971261448\n",
      "47771.03000671249\n"
     ]
    }
   ],
   "source": [
    "pred_labels=predict(train_features,w,b)\n",
    "\n",
    "rmse=(((pred_labels-train_labels)**2).sum()/len(pred_labels))**0.5\n",
    "mae= (((pred_labels-train_labels).abs()).sum()/len(pred_labels))\n",
    "\n",
    "print(rmse)\n",
    "print(mae)"
   ]
  },
  {
   "cell_type": "code",
   "execution_count": 44,
   "id": "48fe52fc-b5f0-4102-8afe-3930079f5f0a",
   "metadata": {},
   "outputs": [
    {
     "name": "stdout",
     "output_type": "stream",
     "text": [
      "66119.617499746\n",
      "48276.01871513647\n"
     ]
    }
   ],
   "source": [
    "pred_labels=predict(test_features,w,b)\n",
    "\n",
    "rmse= (((pred_labels-test_labels)**2).sum()/len(pred_labels))**0.5\n",
    "mae= (((pred_labels-test_labels).abs()).sum()/len(pred_labels))\n",
    "print(rmse)\n",
    "print(mae)"
   ]
  },
  {
   "cell_type": "code",
   "execution_count": 30,
   "id": "f73f0d15-bc0b-468a-97af-b0f2b466f294",
   "metadata": {},
   "outputs": [
    {
     "name": "stdout",
     "output_type": "stream",
     "text": [
      "[-60266.62655304 -62326.28846976  13369.14289714   -437.19000927\n",
      "   8511.96371559 -22134.59882505  19522.59301558  74601.52974347\n",
      "  -3417.92191192 -26164.46097322  22119.94699679  38396.06938991\n",
      "   5690.4066364  -10116.52843141   2902.51141378   1589.17797632\n",
      "   3981.83359957]\n"
     ]
    }
   ],
   "source": [
    "print(w)"
   ]
  },
  {
   "cell_type": "code",
   "execution_count": 43,
   "id": "a71408aa-4d50-411f-b47c-4d0f49cce8df",
   "metadata": {},
   "outputs": [
    {
     "name": "stdout",
     "output_type": "stream",
     "text": [
      "scikit-learn took 0.02993138599958911 sec\n",
      "66517.29970735802\n",
      "47771.05040115144\n",
      "0.6691052072790604\n"
     ]
    }
   ],
   "source": [
    "import time\n",
    "from sklearn.linear_model import LinearRegression\n",
    "from sklearn.metrics import mean_squared_error,mean_absolute_error,r2_score\n",
    "\n",
    "lin_reg = LinearRegression()\n",
    "\n",
    "init_time=time.perf_counter()\n",
    "lin_reg.fit(train_features, train_labels)\n",
    "final_time=time.perf_counter()\n",
    "\n",
    "print('scikit-learn took '+str(final_time-init_time)+' sec')\n",
    "\n",
    "housing_predictions = lin_reg.predict(train_features)\n",
    "lin_mse = mean_squared_error(train_labels, housing_predictions)\n",
    "lin_rmse = np.sqrt(lin_mse)\n",
    "\n",
    "lin_mae= mean_absolute_error(train_labels, housing_predictions)\n",
    "\n",
    "lin_r2 = r2_score(train_labels, housing_predictions)\n",
    "\n",
    "\n",
    "print(lin_rmse)\n",
    "print(lin_mae)\n",
    "print(lin_r2)"
   ]
  },
  {
   "cell_type": "code",
   "execution_count": 45,
   "id": "16903937-419c-4a49-830b-7be7da8d0faa",
   "metadata": {},
   "outputs": [
    {
     "name": "stdout",
     "output_type": "stream",
     "text": [
      "66119.63679951767\n",
      "48276.074156452\n",
      "0.6659916653567507\n"
     ]
    }
   ],
   "source": [
    "test_predictions=lin_reg.predict(test_features)\n",
    "test_mse=mean_squared_error(test_labels, test_predictions)\n",
    "test_rmse=np.sqrt(test_mse)\n",
    "test_mae= mean_absolute_error(test_labels, test_predictions)\n",
    "\n",
    "test_r2 = r2_score(test_labels, test_predictions)\n",
    "\n",
    "\n",
    "print(test_rmse)\n",
    "print(test_mae)\n",
    "print(test_r2)\n"
   ]
  },
  {
   "cell_type": "code",
   "execution_count": null,
   "id": "9998c15b-ace2-4d58-bced-694acebf039a",
   "metadata": {},
   "outputs": [],
   "source": []
  }
 ],
 "metadata": {
  "kernelspec": {
   "display_name": "Python 3 (ipykernel)",
   "language": "python",
   "name": "python3"
  },
  "language_info": {
   "codemirror_mode": {
    "name": "ipython",
    "version": 3
   },
   "file_extension": ".py",
   "mimetype": "text/x-python",
   "name": "python",
   "nbconvert_exporter": "python",
   "pygments_lexer": "ipython3",
   "version": "3.12.7"
  }
 },
 "nbformat": 4,
 "nbformat_minor": 5
}
