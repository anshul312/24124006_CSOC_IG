{
 "cells": [
  {
   "cell_type": "code",
   "execution_count": 1,
   "id": "4b8af399-bd03-4846-b628-2f26ee438522",
   "metadata": {},
   "outputs": [],
   "source": [
    "import pandas as pd\n",
    "from linear_regression_numpy import *"
   ]
  },
  {
   "cell_type": "code",
   "execution_count": 2,
   "id": "7ca90574-90d4-44fb-9113-e6b31e2118a6",
   "metadata": {},
   "outputs": [
    {
     "name": "stdout",
     "output_type": "stream",
     "text": [
      "<class 'pandas.core.frame.DataFrame'>\n",
      "RangeIndex: 20640 entries, 0 to 20639\n",
      "Data columns (total 10 columns):\n",
      " #   Column              Non-Null Count  Dtype  \n",
      "---  ------              --------------  -----  \n",
      " 0   longitude           20640 non-null  float64\n",
      " 1   latitude            20640 non-null  float64\n",
      " 2   housing_median_age  20640 non-null  float64\n",
      " 3   total_rooms         20640 non-null  float64\n",
      " 4   total_bedrooms      20433 non-null  float64\n",
      " 5   population          20640 non-null  float64\n",
      " 6   households          20640 non-null  float64\n",
      " 7   median_income       20640 non-null  float64\n",
      " 8   median_house_value  20640 non-null  float64\n",
      " 9   ocean_proximity     20640 non-null  object \n",
      "dtypes: float64(9), object(1)\n",
      "memory usage: 1.6+ MB\n"
     ]
    }
   ],
   "source": [
    "housing=pd.read_csv('housing.csv')\n",
    "housing.info()"
   ]
  },
  {
   "cell_type": "code",
   "execution_count": 3,
   "id": "64fc2876-6f4f-4a27-93b4-234833c862d2",
   "metadata": {
    "scrolled": true
   },
   "outputs": [],
   "source": [
    "median_of_total_bedrooms=housing['total_bedrooms'].median()\n",
    "housing['total_bedrooms'] = housing['total_bedrooms'].fillna(median_of_total_bedrooms)"
   ]
  },
  {
   "cell_type": "code",
   "execution_count": 4,
   "id": "78ef10c1-14cc-4284-895d-1cd8100f1112",
   "metadata": {},
   "outputs": [
    {
     "data": {
      "text/plain": [
       "median_house_value    1.000000\n",
       "median_income         0.688075\n",
       "total_rooms           0.134153\n",
       "housing_median_age    0.105623\n",
       "households            0.065843\n",
       "total_bedrooms        0.049457\n",
       "population           -0.024650\n",
       "longitude            -0.045967\n",
       "latitude             -0.144160\n",
       "Name: median_house_value, dtype: float64"
      ]
     },
     "execution_count": 4,
     "metadata": {},
     "output_type": "execute_result"
    }
   ],
   "source": [
    "corr_matrix = housing.select_dtypes(include=['number']).corr()\n",
    "corr_matrix[\"median_house_value\"].sort_values(ascending=False)"
   ]
  },
  {
   "cell_type": "code",
   "execution_count": 5,
   "id": "61b80c28-27ba-47c3-8b9a-72ed987bd4b5",
   "metadata": {},
   "outputs": [
    {
     "data": {
      "text/plain": [
       "median_house_value    1.000000\n",
       "median_income         0.688075\n",
       "rooms_per_person      0.209482\n",
       "rooms_per_house       0.151948\n",
       "total_rooms           0.134153\n",
       "housing_median_age    0.105623\n",
       "households            0.065843\n",
       "total_bedrooms        0.049457\n",
       "population           -0.024650\n",
       "bedrooms_per_house   -0.045637\n",
       "longitude            -0.045967\n",
       "latitude             -0.144160\n",
       "bedrooms_per_room    -0.233303\n",
       "Name: median_house_value, dtype: float64"
      ]
     },
     "execution_count": 5,
     "metadata": {},
     "output_type": "execute_result"
    }
   ],
   "source": [
    "housing['rooms_per_house']=housing['total_rooms']/housing['households']\n",
    "housing['bedrooms_per_house']=housing['total_bedrooms']/housing['households']\n",
    "housing[\"bedrooms_per_room\"] = housing[\"total_bedrooms\"]/housing[\"total_rooms\"]\n",
    "housing[\"rooms_per_person\"] = housing[\"total_rooms\"]/housing[\"population\"]\n",
    "\n",
    "corr_matrix = housing.select_dtypes(include=['number']).corr()\n",
    "corr_matrix[\"median_house_value\"].sort_values(ascending=False)"
   ]
  },
  {
   "cell_type": "code",
   "execution_count": 6,
   "id": "fd4aad8e-b9d6-4511-9934-1457063bd40c",
   "metadata": {},
   "outputs": [
    {
     "name": "stdout",
     "output_type": "stream",
     "text": [
      "                    longitude  latitude  housing_median_age  total_rooms  \\\n",
      "longitude            1.000000 -0.924664           -0.108197     0.044568   \n",
      "latitude            -0.924664  1.000000            0.011173    -0.036100   \n",
      "housing_median_age  -0.108197  0.011173            1.000000    -0.361262   \n",
      "total_rooms          0.044568 -0.036100           -0.361262     1.000000   \n",
      "total_bedrooms       0.069120 -0.066484           -0.319026     0.927058   \n",
      "population           0.099773 -0.108785           -0.296244     0.857126   \n",
      "households           0.055310 -0.071035           -0.302916     0.918484   \n",
      "median_income       -0.015176 -0.079809           -0.119034     0.198050   \n",
      "median_house_value  -0.045967 -0.144160            0.105623     0.134153   \n",
      "rooms_per_house     -0.027540  0.106389           -0.153277     0.133798   \n",
      "bedrooms_per_house   0.011529  0.065359           -0.060143     0.012883   \n",
      "bedrooms_per_room    0.081205 -0.098619            0.135622    -0.187381   \n",
      "rooms_per_person    -0.074420  0.140345           -0.107926     0.129274   \n",
      "\n",
      "                    total_bedrooms  population  households  median_income  \\\n",
      "longitude                 0.069120    0.099773    0.055310      -0.015176   \n",
      "latitude                 -0.066484   -0.108785   -0.071035      -0.079809   \n",
      "housing_median_age       -0.319026   -0.296244   -0.302916      -0.119034   \n",
      "total_rooms               0.927058    0.857126    0.918484       0.198050   \n",
      "total_bedrooms            1.000000    0.873535    0.974366      -0.007617   \n",
      "population                0.873535    1.000000    0.907222       0.004834   \n",
      "households                0.974366    0.907222    1.000000       0.013033   \n",
      "median_income            -0.007617    0.004834    0.013033       1.000000   \n",
      "median_house_value        0.049457   -0.024650    0.065843       0.688075   \n",
      "rooms_per_house           0.001765   -0.072213   -0.080598       0.326895   \n",
      "bedrooms_per_house        0.040058   -0.075265   -0.066049      -0.050826   \n",
      "bedrooms_per_room         0.071649    0.010035    0.034498      -0.545298   \n",
      "rooms_per_person          0.056805   -0.140520   -0.028473       0.237828   \n",
      "\n",
      "                    median_house_value  rooms_per_house  bedrooms_per_house  \\\n",
      "longitude                    -0.045967        -0.027540            0.011529   \n",
      "latitude                     -0.144160         0.106389            0.065359   \n",
      "housing_median_age            0.105623        -0.153277           -0.060143   \n",
      "total_rooms                   0.134153         0.133798            0.012883   \n",
      "total_bedrooms                0.049457         0.001765            0.040058   \n",
      "population                   -0.024650        -0.072213           -0.075265   \n",
      "households                    0.065843        -0.080598           -0.066049   \n",
      "median_income                 0.688075         0.326895           -0.050826   \n",
      "median_house_value            1.000000         0.151948           -0.045637   \n",
      "rooms_per_house               0.151948         1.000000            0.777040   \n",
      "bedrooms_per_house           -0.045637         0.777040            1.000000   \n",
      "bedrooms_per_room            -0.233303        -0.370308            0.217560   \n",
      "rooms_per_person              0.209482         0.887282            0.755505   \n",
      "\n",
      "                    bedrooms_per_room  rooms_per_person  \n",
      "longitude                    0.081205         -0.074420  \n",
      "latitude                    -0.098619          0.140345  \n",
      "housing_median_age           0.135622         -0.107926  \n",
      "total_rooms                 -0.187381          0.129274  \n",
      "total_bedrooms               0.071649          0.056805  \n",
      "population                   0.010035         -0.140520  \n",
      "households                   0.034498         -0.028473  \n",
      "median_income               -0.545298          0.237828  \n",
      "median_house_value          -0.233303          0.209482  \n",
      "rooms_per_house             -0.370308          0.887282  \n",
      "bedrooms_per_house           0.217560          0.755505  \n",
      "bedrooms_per_room            1.000000         -0.242793  \n",
      "rooms_per_person            -0.242793          1.000000  \n"
     ]
    }
   ],
   "source": [
    "print(corr_matrix)"
   ]
  },
  {
   "cell_type": "code",
   "execution_count": 7,
   "id": "ea87615d-4014-4f30-adc7-e21a5547ec9d",
   "metadata": {},
   "outputs": [
    {
     "name": "stdout",
     "output_type": "stream",
     "text": [
      "<class 'pandas.core.frame.DataFrame'>\n",
      "RangeIndex: 20640 entries, 0 to 20639\n",
      "Data columns (total 17 columns):\n",
      " #   Column                      Non-Null Count  Dtype  \n",
      "---  ------                      --------------  -----  \n",
      " 0   longitude                   20640 non-null  float64\n",
      " 1   latitude                    20640 non-null  float64\n",
      " 2   housing_median_age          20640 non-null  float64\n",
      " 3   total_rooms                 20640 non-null  float64\n",
      " 4   population                  20640 non-null  float64\n",
      " 5   households                  20640 non-null  float64\n",
      " 6   median_income               20640 non-null  float64\n",
      " 7   median_house_value          20640 non-null  float64\n",
      " 8   rooms_per_house             20640 non-null  float64\n",
      " 9   bedrooms_per_house          20640 non-null  float64\n",
      " 10  bedrooms_per_room           20640 non-null  float64\n",
      " 11  rooms_per_person            20640 non-null  float64\n",
      " 12  ocean_proximity_<1H OCEAN   20640 non-null  bool   \n",
      " 13  ocean_proximity_INLAND      20640 non-null  bool   \n",
      " 14  ocean_proximity_ISLAND      20640 non-null  bool   \n",
      " 15  ocean_proximity_NEAR BAY    20640 non-null  bool   \n",
      " 16  ocean_proximity_NEAR OCEAN  20640 non-null  bool   \n",
      "dtypes: bool(5), float64(12)\n",
      "memory usage: 2.0 MB\n"
     ]
    }
   ],
   "source": [
    "housing = housing.drop('total_bedrooms', axis=1)\n",
    "housing = pd.get_dummies(housing, columns=['ocean_proximity'])\n",
    "\n",
    "housing.info()"
   ]
  },
  {
   "cell_type": "code",
   "execution_count": 8,
   "id": "edfab1fc-3aba-4448-b52c-9301b4aba785",
   "metadata": {
    "scrolled": true
   },
   "outputs": [
    {
     "name": "stdout",
     "output_type": "stream",
     "text": [
      "<class 'pandas.core.frame.DataFrame'>\n",
      "Index: 16512 entries, 12432 to 3648\n",
      "Data columns (total 17 columns):\n",
      " #   Column                      Non-Null Count  Dtype  \n",
      "---  ------                      --------------  -----  \n",
      " 0   longitude                   16512 non-null  float64\n",
      " 1   latitude                    16512 non-null  float64\n",
      " 2   housing_median_age          16512 non-null  float64\n",
      " 3   total_rooms                 16512 non-null  float64\n",
      " 4   population                  16512 non-null  float64\n",
      " 5   households                  16512 non-null  float64\n",
      " 6   median_income               16512 non-null  float64\n",
      " 7   median_house_value          16512 non-null  float64\n",
      " 8   rooms_per_house             16512 non-null  float64\n",
      " 9   bedrooms_per_house          16512 non-null  float64\n",
      " 10  bedrooms_per_room           16512 non-null  float64\n",
      " 11  rooms_per_person            16512 non-null  float64\n",
      " 12  ocean_proximity_<1H OCEAN   16512 non-null  bool   \n",
      " 13  ocean_proximity_INLAND      16512 non-null  bool   \n",
      " 14  ocean_proximity_ISLAND      16512 non-null  bool   \n",
      " 15  ocean_proximity_NEAR BAY    16512 non-null  bool   \n",
      " 16  ocean_proximity_NEAR OCEAN  16512 non-null  bool   \n",
      "dtypes: bool(5), float64(12)\n",
      "memory usage: 1.7 MB\n",
      "None\n"
     ]
    }
   ],
   "source": [
    "train_set, test_set = train_test_split(housing, test_size=0.2, random_state=42)\n",
    "print(train_set.info())"
   ]
  },
  {
   "cell_type": "code",
   "execution_count": 9,
   "id": "da167528-d3b5-4c1a-ba7d-ecaa6d3490d9",
   "metadata": {},
   "outputs": [],
   "source": [
    "train_features = train_set.drop('median_house_value', axis=1)\n",
    "train_labels = train_set['median_house_value'].copy()"
   ]
  },
  {
   "cell_type": "code",
   "execution_count": 10,
   "id": "3c6ee4ad-5be2-48e9-bb8f-6b87c6e892ed",
   "metadata": {},
   "outputs": [],
   "source": [
    "for col in train_features.columns:\n",
    "    mean = train_features[col].mean()\n",
    "    std = train_features[col].std()\n",
    "    train_features[col] = (train_features[col]-mean)/std"
   ]
  },
  {
   "cell_type": "code",
   "execution_count": 11,
   "id": "93667191-8765-4245-9f58-34772db853ca",
   "metadata": {},
   "outputs": [
    {
     "name": "stdout",
     "output_type": "stream",
     "text": [
      "Iteration    0: Cost 148416.24   \n",
      "Iteration  100: Cost 66699.36   \n",
      "Iteration  200: Cost 66554.88   \n",
      "Iteration  300: Cost 66535.73   \n",
      "Iteration  400: Cost 66533.15   \n",
      "Iteration  500: Cost 66532.80   \n",
      "Iteration  600: Cost 66532.76   \n",
      "Iteration  700: Cost 66532.75   \n",
      "Iteration  800: Cost 66532.75   \n",
      "Iteration  900: Cost 66532.75   \n",
      "Iteration  999: Cost 66532.75   \n",
      "gradient_descent ran in:3.674070875000325 sec\n"
     ]
    }
   ],
   "source": [
    "w_init = np.zeros(train_features.shape[1] )\n",
    "b_init = 0.0\n",
    "\n",
    "w, b, J_hist, w_hist = gradient_descent(X=train_features,y= train_labels,w_in= w_init, b_in=b_init, cost_function=cost, gradients=gradients, alpha=0.4, num_iters=1000)\n"
   ]
  },
  {
   "cell_type": "code",
   "execution_count": 18,
   "id": "cd944015-746e-41b9-a18e-e3b68147c59b",
   "metadata": {},
   "outputs": [
    {
     "data": {
      "image/png": "[encoded data removed]",
      "text/plain": [
       "<Figure size 640x480 with 1 Axes>"
      ]
     },
     "metadata": {},
     "output_type": "display_data"
    }
   ],
   "source": [
    "import matplotlib.pyplot as plt\n",
    "\n",
    "plt.figure()\n",
    "plt.plot(range(len(J_hist)), J_hist, linewidth=2)\n",
    "plt.xlabel(\"Iteration\")\n",
    "plt.ylabel(\"Cost J\")\n",
    "plt.title(\"Convergence of Cost Function\")\n",
    "plt.grid(True)\n",
    "plt.show()"
   ]
  },
  {
   "cell_type": "code",
   "execution_count": 12,
   "id": "9d29ce24-8fa7-45bf-a97e-94d3b2a2798b",
   "metadata": {},
   "outputs": [],
   "source": [
    "test_labels = test_set['median_house_value'].copy()\n",
    "test_features = test_set.drop('median_house_value', axis=1)\n",
    "\n",
    "\n",
    "for col in test_features.columns:\n",
    "    mean = test_features[col].mean()\n",
    "    std = test_features[col].std()\n",
    "    test_features[col] = (test_features[col]-mean)/std"
   ]
  },
  {
   "cell_type": "code",
   "execution_count": 13,
   "id": "58491f65-0c7b-4d15-a4cd-2e9942257fcc",
   "metadata": {},
   "outputs": [
    {
     "name": "stdout",
     "output_type": "stream",
     "text": [
      "66532.748855403\n",
      "47778.21677541989\n",
      "0.6689514837720036\n"
     ]
    }
   ],
   "source": [
    "pred_labels=predict(train_features,w,b)\n",
    "\n",
    "rmse=(((pred_labels-train_labels)**2).sum()/len(pred_labels))**0.5\n",
    "mae= (((pred_labels-train_labels).abs()).sum()/len(pred_labels))\n",
    "r2_score_on_train=r2_score(train_labels,pred_labels)\n",
    "\n",
    "print(rmse)\n",
    "print(mae)\n",
    "print(r2_score_on_train)"
   ]
  },
  {
   "cell_type": "code",
   "execution_count": 14,
   "id": "48fe52fc-b5f0-4102-8afe-3930079f5f0a",
   "metadata": {},
   "outputs": [
    {
     "name": "stdout",
     "output_type": "stream",
     "text": [
      "66124.23317149105\n",
      "48292.19923467582\n",
      "0.6659452259029381\n"
     ]
    }
   ],
   "source": [
    "pred_labels=predict(test_features,w,b)\n",
    "\n",
    "rmse= (((pred_labels-test_labels)**2).sum()/len(pred_labels))**0.5\n",
    "mae= (((pred_labels-test_labels).abs()).sum()/len(pred_labels))\n",
    "r2_score_on_test=r2_score(test_labels,pred_labels)\n",
    "\n",
    "print(rmse)\n",
    "print(mae)\n",
    "print(r2_score_on_test)"
   ]
  },
  {
   "cell_type": "code",
   "execution_count": 17,
   "id": "a71408aa-4d50-411f-b47c-4d0f49cce8df",
   "metadata": {},
   "outputs": [
    {
     "name": "stdout",
     "output_type": "stream",
     "text": [
      "scikit-learn took 0.023325394999119453 sec\n",
      "RMSE-66532.74885268776\n",
      "47778.237294396786\n",
      "0.668951483799026\n"
     ]
    }
   ],
   "source": [
    "import time\n",
    "from sklearn.linear_model import LinearRegression\n",
    "from sklearn.metrics import mean_squared_error,mean_absolute_error,r2_score\n",
    "\n",
    "lin_reg = LinearRegression()\n",
    "\n",
    "init_time=time.perf_counter()\n",
    "lin_reg.fit(train_features, train_labels)\n",
    "final_time=time.perf_counter()\n",
    "\n",
    "print('scikit-learn took '+str(final_time-init_time)+' sec')\n",
    "\n",
    "housing_predictions = lin_reg.predict(train_features)\n",
    "train_mse = mean_squared_error(train_labels, housing_predictions)\n",
    "train_rmse = np.sqrt(train_mse)\n",
    "\n",
    "train_mae= mean_absolute_error(train_labels, housing_predictions)\n",
    "\n",
    "train_r2 = r2_score(train_labels, housing_predictions)\n",
    "\n",
    "\n",
    "print(\"RMSE-\"+str(train_rmse))\n",
    "print(train_mae)\n",
    "print(train_r2)"
   ]
  },
  {
   "cell_type": "code",
   "execution_count": 16,
   "id": "16903937-419c-4a49-830b-7be7da8d0faa",
   "metadata": {},
   "outputs": [
    {
     "name": "stdout",
     "output_type": "stream",
     "text": [
      "66124.25395445895\n",
      "48292.24839766925\n",
      "0.6659450159148473\n"
     ]
    }
   ],
   "source": [
    "test_predictions=lin_reg.predict(test_features)\n",
    "test_mse=mean_squared_error(test_labels, test_predictions)\n",
    "test_rmse=np.sqrt(test_mse)\n",
    "test_mae= mean_absolute_error(test_labels, test_predictions)\n",
    "\n",
    "test_r2 = r2_score(test_labels, test_predictions)\n",
    "\n",
    "\n",
    "print(test_rmse)\n",
    "print(test_mae)\n",
    "print(test_r2)"
   ]
  }
 ],
 "metadata": {
  "kernelspec": {
   "display_name": "Python 3 (ipykernel)",
   "language": "python",
   "name": "python3"
  },
  "language_info": {
   "codemirror_mode": {
    "name": "ipython",
    "version": 3
   },
   "file_extension": ".py",
   "mimetype": "text/x-python",
   "name": "python",
   "nbconvert_exporter": "python",
   "pygments_lexer": "ipython3",
   "version": "3.12.7"
  }
 },
 "nbformat": 4,
 "nbformat_minor": 5
}
